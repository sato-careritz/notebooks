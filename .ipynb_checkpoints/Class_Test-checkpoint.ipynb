{
 "cells": [
  {
   "cell_type": "code",
   "execution_count": 4,
   "metadata": {},
   "outputs": [
    {
     "name": "stdout",
     "output_type": "stream",
     "text": [
      "引数で渡された数字は10です。\n"
     ]
    }
   ],
   "source": [
    "class Test:\n",
    "    def __init__(self, num):\n",
    "        self.num = num\n",
    "        \n",
    "    def print_num(self):\n",
    "        print('引数で渡された数字は{}です。'.format(self.num))\n",
    "        \n",
    "test = Test(10)\n",
    "test.print_num()"
   ]
  },
  {
   "cell_type": "code",
   "execution_count": 5,
   "metadata": {},
   "outputs": [
    {
     "name": "stdout",
     "output_type": "stream",
     "text": [
      "コンストラクタが呼ばれました。\n",
      "デストラクタが呼ばれました。\n"
     ]
    }
   ],
   "source": [
    "class Test:\n",
    "    def __init__(self):\n",
    "        print('コンストラクタが呼ばれました。')\n",
    "        \n",
    "    def __del__(self):\n",
    "        print('デストラクタが呼ばれました。')\n",
    "        \n",
    "test = Test()\n",
    "del test"
   ]
  },
  {
   "cell_type": "code",
   "execution_count": 6,
   "metadata": {},
   "outputs": [
    {
     "name": "stdout",
     "output_type": "stream",
     "text": [
      "このクラスはTestクラスを継承しています。\n",
      "引数で渡された数字は10です。\n"
     ]
    }
   ],
   "source": [
    "class Test:\n",
    "    def __init__(self, num):\n",
    "        self.num = num\n",
    "        \n",
    "    def print_num(self):\n",
    "        print('引数で渡された数字は{}です。'.format(self.num))\n",
    "\n",
    "class Test2(Test):\n",
    "    def print_test2_info(self):\n",
    "        print('このクラスはTestクラスを継承しています。')\n",
    "        super().print_num()\n",
    "        \n",
    "test = Test2(10)\n",
    "test.print_test2_info()"
   ]
  }
 ],
 "metadata": {
  "kernelspec": {
   "display_name": "Python 3",
   "language": "python",
   "name": "python3"
  },
  "language_info": {
   "codemirror_mode": {
    "name": "ipython",
    "version": 3
   },
   "file_extension": ".py",
   "mimetype": "text/x-python",
   "name": "python",
   "nbconvert_exporter": "python",
   "pygments_lexer": "ipython3",
   "version": "3.6.1"
  }
 },
 "nbformat": 4,
 "nbformat_minor": 2
}
