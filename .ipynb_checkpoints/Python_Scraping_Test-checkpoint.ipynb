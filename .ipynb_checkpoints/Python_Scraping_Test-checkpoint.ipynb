{
 "cells": [
  {
   "cell_type": "code",
   "execution_count": 1,
   "metadata": {
    "collapsed": true
   },
   "outputs": [],
   "source": [
    "import urllib.request\n",
    "from bs4 import BeautifulSoup "
   ]
  },
  {
   "cell_type": "code",
   "execution_count": 3,
   "metadata": {},
   "outputs": [
    {
     "data": {
      "text/plain": [
       "[60970, 60951, 60891, 55237, 55242, 55289, 55299]"
      ]
     },
     "execution_count": 3,
     "metadata": {},
     "output_type": "execute_result"
    }
   ],
   "source": [
    "html = urllib.request.urlopen(\"https://stg01-hmp.rep-project.jp/bath/jirei/bath_51_100.html\").read()\n",
    "soup = BeautifulSoup(html, 'lxml')\n",
    "jireiList = []\n",
    "\n",
    "for div in soup.findAll(\"div\", class_=\"jireiBox\"):\n",
    "    a = div.find(\"div\").find(\"a\")\n",
    "    jirei = a.attrs[\"href\"].split(\"B\")[1].split(\".\")[0]\n",
    "    jireiList.append(int(jirei))\n",
    "    \n",
    "jireiList"
   ]
  }
 ],
 "metadata": {
  "kernelspec": {
   "display_name": "Python 3",
   "language": "python",
   "name": "python3"
  },
  "language_info": {
   "codemirror_mode": {
    "name": "ipython",
    "version": 3
   },
   "file_extension": ".py",
   "mimetype": "text/x-python",
   "name": "python",
   "nbconvert_exporter": "python",
   "pygments_lexer": "ipython3",
   "version": "3.6.1"
  }
 },
 "nbformat": 4,
 "nbformat_minor": 1
}
