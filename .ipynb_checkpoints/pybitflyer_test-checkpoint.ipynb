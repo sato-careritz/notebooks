{
 "cells": [
  {
   "cell_type": "code",
   "execution_count": 27,
   "metadata": {
    "collapsed": true
   },
   "outputs": [],
   "source": [
    "# グラフ描画に使う\n",
    "import numpy as np\n",
    "import pandas as pd\n",
    "import matplotlib.pyplot as plt\n",
    "# bitFlyerにアクセスするのに使う\n",
    "import pybitflyer\n",
    "# 時間の管理に使う\n",
    "import time\n",
    "from datetime import datetime\n",
    "# リアルタイムプロットに必要\n",
    "from ipywidgets import FloatProgress\n",
    "from IPython.display import display, clear_output\n",
    "# Plotly\n",
    "import plotly.plotly as py\n",
    "import plotly.tools as tls\n",
    "import plotly.graph_objs as go\n",
    "# Jupyter環境でグラフを表示するのに必要\n",
    "%matplotlib inline"
   ]
  },
  {
   "cell_type": "code",
   "execution_count": 34,
   "metadata": {},
   "outputs": [
    {
     "data": {
      "text/plain": [
       "{'best_ask': 2189000.0,\n",
       " 'best_ask_size': 2.2828,\n",
       " 'best_bid': 2188690.0,\n",
       " 'best_bid_size': 0.005,\n",
       " 'ltp': 2189000.0,\n",
       " 'product_code': 'BTC_JPY',\n",
       " 'tick_id': 671005,\n",
       " 'timestamp': '2017-12-19T02:39:42.4',\n",
       " 'total_ask_depth': 1604.85361945,\n",
       " 'total_bid_depth': 3280.48008796,\n",
       " 'volume': 95888.34789831,\n",
       " 'volume_by_product': 13559.83875203}"
      ]
     },
     "execution_count": 34,
     "metadata": {},
     "output_type": "execute_result"
    }
   ],
   "source": [
    "api = pybitflyer.API()\n",
    "ticker = api.ticker(product_code=\"BTC_JPY\")\n",
    "ticker"
   ]
  },
  {
   "cell_type": "code",
   "execution_count": null,
   "metadata": {},
   "outputs": [],
   "source": [
    "# # 最終取引価格を格納する配列\n",
    "# raws = []\n",
    "# # プロットの準備\n",
    "# fig = plt.figure(figsize=(16,10))\n",
    "# axe = fig.add_subplot(111)\n",
    "\n",
    "# while True:\n",
    "#     # 毎分00秒に稼働\n",
    "#     if datetime.now().strftime('%S') [0:2]== '00':\n",
    "#         clear_output(wait = True)\n",
    "#         # プロット用データの更新\n",
    "#         tick = api.ticker(product_code = \"BTC_JPY\")\n",
    "#         raws = np.append(raws, tick['ltp'])\n",
    "#         # プロット\n",
    "#         axe.plot(raws, \"black\", linewidth=2, label=\"Raw price\")\n",
    "#         axe.set_title(\"Raw price\")\n",
    "#         display(fig)\n",
    "#         # 次の00秒まで休憩\n",
    "#         time.sleep(57)\n",
    "#         axe.cla()"
   ]
  },
  {
   "cell_type": "code",
   "execution_count": 35,
   "metadata": {},
   "outputs": [],
   "source": [
    "stream_ids = tls.get_credentials_file()['stream_ids']\n",
    "\n",
    "# Get stream id from stream id list \n",
    "stream_id = stream_ids[0]\n",
    "\n",
    "# Make instance of stream id object \n",
    "stream_1 = go.Stream(\n",
    "    token=stream_id,  # link stream id to 'token' key\n",
    "    maxpoints=80      # keep a max of 80 pts on screen\n",
    ")"
   ]
  },
  {
   "cell_type": "code",
   "execution_count": 36,
   "metadata": {},
   "outputs": [],
   "source": [
    "# Initialize trace of streaming plot by embedding the unique stream_id\n",
    "trace1 = go.Scatter(\n",
    "    x=[],\n",
    "    y=[],\n",
    "    mode='lines+markers',\n",
    "    stream=stream_1         # (!) embed stream id, 1 per trace\n",
    ")\n",
    "\n",
    "data = go.Data([trace1])"
   ]
  },
  {
   "cell_type": "code",
   "execution_count": 37,
   "metadata": {},
   "outputs": [
    {
     "name": "stdout",
     "output_type": "stream",
     "text": [
      "High five! You successfully sent some data to your account on plotly. View your plot in your browser at https://plot.ly/~sato-careritz/0 or inside your plot.ly account where it is named 'python-streaming'\n"
     ]
    },
    {
     "data": {
      "text/html": [
       "<iframe id=\"igraph\" scrolling=\"no\" style=\"border:none;\" seamless=\"seamless\" src=\"https://plot.ly/~sato-careritz/0.embed\" height=\"525px\" width=\"100%\"></iframe>"
      ],
      "text/plain": [
       "<plotly.tools.PlotlyDisplay object>"
      ]
     },
     "execution_count": 37,
     "metadata": {},
     "output_type": "execute_result"
    }
   ],
   "source": [
    "# Add title to layout object\n",
    "layout = go.Layout(title='Raw Price')\n",
    "\n",
    "# Make a figure object\n",
    "fig = go.Figure(data=data, layout=layout)\n",
    "\n",
    "# Send fig to Plotly, initialize streaming plot, open new tab\n",
    "py.iplot(fig, filename='python-streaming')"
   ]
  },
  {
   "cell_type": "code",
   "execution_count": 38,
   "metadata": {
    "collapsed": true
   },
   "outputs": [],
   "source": [
    "# We will provide the stream link object the same token that's associated with the trace we wish to stream to\n",
    "s = py.Stream(stream_id)\n",
    "\n",
    "# We then open a connection\n",
    "s.open()"
   ]
  },
  {
   "cell_type": "code",
   "execution_count": null,
   "metadata": {},
   "outputs": [],
   "source": [
    "# Delay start of stream by 5 sec (time to switch tabs)\n",
    "time.sleep(5)\n",
    "\n",
    "# while True:\n",
    "\n",
    "#     # Current time on x-axis, random numbers on y-axis\n",
    "#     x = datetime.datetime.now().strftime('%Y-%m-%d %H:%M:%S.%f')\n",
    "#     y = (np.cos(k*i/50.)*np.cos(i/50.)+np.random.randn(1))[0]\n",
    "\n",
    "#     # Send data to your plot\n",
    "#     s.write(dict(x=x, y=y))\n",
    "\n",
    "#     #     Write numbers to stream to append current data on plot,\n",
    "#     #     write lists to overwrite existing data on plot\n",
    "\n",
    "#     time.sleep(1)  # plot a point every second    \n",
    "# # Close the stream when done plotting\n",
    "# s.close()\n",
    "\n",
    "while True:\n",
    "    \n",
    "    if datetime.now().strftime('%S') [1:2]== '0':\n",
    "        # Current time on x-axis, current price of bitcoin on y-axis\n",
    "        x = datetime.now().strftime('%Y-%m-%d %H:%M:%S.%f')\n",
    "        y = api.ticker(product_code = \"BTC_JPY\")['ltp']\n",
    "        # send data to stream\n",
    "        s.write(dict(x=x, y=y))\n",
    "        #  plot a point every 10 seconds\n",
    "        time.sleep(1)\n",
    "# Close the stream when done plotting\n",
    "s.close()"
   ]
  },
  {
   "cell_type": "code",
   "execution_count": 22,
   "metadata": {},
   "outputs": [
    {
     "data": {
      "text/html": [
       "<iframe id=\"igraph\" scrolling=\"no\" style=\"border:none;\" seamless=\"seamless\" src=\"https://plot.ly/~streaming-demos/12.embed\" height=\"525\" width=\"100%\"></iframe>"
      ],
      "text/plain": [
       "<plotly.tools.PlotlyDisplay object>"
      ]
     },
     "execution_count": 22,
     "metadata": {},
     "output_type": "execute_result"
    }
   ],
   "source": [
    "# Embed never-ending time series streaming plot\n",
    "tls.embed('streaming-demos','12')"
   ]
  },
  {
   "cell_type": "code",
   "execution_count": null,
   "metadata": {
    "collapsed": true
   },
   "outputs": [],
   "source": []
  }
 ],
 "metadata": {
  "kernelspec": {
   "display_name": "Python 3",
   "language": "python",
   "name": "python3"
  },
  "language_info": {
   "codemirror_mode": {
    "name": "ipython",
    "version": 3
   },
   "file_extension": ".py",
   "mimetype": "text/x-python",
   "name": "python",
   "nbconvert_exporter": "python",
   "pygments_lexer": "ipython3",
   "version": "3.6.3"
  }
 },
 "nbformat": 4,
 "nbformat_minor": 2
}
