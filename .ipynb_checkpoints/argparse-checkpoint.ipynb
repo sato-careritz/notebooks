{
 "cells": [
  {
   "cell_type": "code",
   "execution_count": 2,
   "metadata": {},
   "outputs": [
    {
     "name": "stderr",
     "output_type": "stream",
     "text": [
      "usage: ipykernel_launcher.py [-h] [-w WORD] [-s SIZE]\n",
      "ipykernel_launcher.py: error: unrecognized arguments: -f /Users/satoem/Library/Jupyter/runtime/kernel-56a5f363-7ccc-4f4a-9794-ba928223131e.json\n"
     ]
    },
    {
     "ename": "SystemExit",
     "evalue": "2",
     "output_type": "error",
     "traceback": [
      "An exception has occurred, use %tb to see the full traceback.\n",
      "\u001b[0;31mSystemExit\u001b[0m\u001b[0;31m:\u001b[0m 2\n"
     ]
    },
    {
     "name": "stderr",
     "output_type": "stream",
     "text": [
      "/Users/satoem/.pyenv/versions/anaconda3-4.4.0/lib/python3.6/site-packages/IPython/core/interactiveshell.py:2889: UserWarning: To exit: use 'exit', 'quit', or Ctrl-D.\n",
      "  warn(\"To exit: use 'exit', 'quit', or Ctrl-D.\", stacklevel=1)\n"
     ]
    }
   ],
   "source": [
    "import argparse\n",
    "\n",
    "def main():\n",
    "    # パーサの作成\n",
    "    psr = argparse.ArgumentParser()\n",
    "    # -w / --word というオプションを追加．デフォルトは 'hello! '\n",
    "    psr.add_argument('-w', '--word', default='hello! ')\n",
    "    # -s / --size というオプションを追加，デフォルトは5で型はint\n",
    "    psr.add_argument('-s', '--size', default=5, type=int)\n",
    "    # コマンドラインの引数をパースしてargsに入れる．エラーがあったらexitする\n",
    "    args = psr.parse_args()\n",
    "    print(args.word * args.size)\n",
    "\n",
    "if __name__ == '__main__': main()"
   ]
  },
  {
   "cell_type": "code",
   "execution_count": null,
   "metadata": {
    "collapsed": true
   },
   "outputs": [],
   "source": [
    "> python t3.py -s 6\n",
    "hello! hello! hello! hello! hello! hello!\n",
    "> python t3.py -s 2\n",
    "hello! hello!\n",
    "> python t3.py -w 'hoge '\n",
    "hoge hoge hoge hoge hoge"
   ]
  }
 ],
 "metadata": {
  "kernelspec": {
   "display_name": "Python 3",
   "language": "python",
   "name": "python3"
  },
  "language_info": {
   "codemirror_mode": {
    "name": "ipython",
    "version": 3
   },
   "file_extension": ".py",
   "mimetype": "text/x-python",
   "name": "python",
   "nbconvert_exporter": "python",
   "pygments_lexer": "ipython3",
   "version": "3.6.1"
  }
 },
 "nbformat": 4,
 "nbformat_minor": 2
}
