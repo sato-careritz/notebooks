{
 "cells": [
  {
   "cell_type": "code",
   "execution_count": null,
   "metadata": {},
   "outputs": [],
   "source": [
    "import datetime\n",
    "\n",
    "def log(*args):\n",
    "    msg = ' '.join(map(str, [datetime.datetime.now(), '>'] + list(args)))\n",
    "    print(msg)\n",
    "    with open('log.txt', 'at') as fd: fd.write(msg + '\\n')\n",
    "\n",
    "def main():\n",
    "    log('generated', 5, 'items')\n",
    "\n",
    "if __name__ == '__main__': main()"
   ]
  },
  {
   "cell_type": "code",
   "execution_count": null,
   "metadata": {},
   "outputs": [],
   "source": [
    "> python t5.py\n",
    "2017-09-04 12:39:38.894456 > generated 5 items\n",
    "> cat log.txt\n",
    "2017-09-04 12:39:38.894456 > generated 5 items"
   ]
  }
 ],
 "metadata": {
  "kernelspec": {
   "display_name": "Python 3",
   "language": "python",
   "name": "python3"
  },
  "language_info": {
   "codemirror_mode": {
    "name": "ipython",
    "version": 3
   },
   "file_extension": ".py",
   "mimetype": "text/x-python",
   "name": "python",
   "nbconvert_exporter": "python",
   "pygments_lexer": "ipython3",
   "version": "3.6.1"
  }
 },
 "nbformat": 4,
 "nbformat_minor": 2
}
